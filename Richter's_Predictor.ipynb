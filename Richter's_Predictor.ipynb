{
  "nbformat": 4,
  "nbformat_minor": 0,
  "metadata": {
    "colab": {
      "name": "Richter's Predictor.ipynb",
      "provenance": [],
      "collapsed_sections": []
    },
    "kernelspec": {
      "name": "python3",
      "display_name": "Python 3"
    },
    "accelerator": "GPU"
  },
  "cells": [
    {
      "cell_type": "code",
      "metadata": {
        "id": "w7jUQPy38lCQ",
        "colab_type": "code",
        "colab": {}
      },
      "source": [
        "import pandas as pd\n",
        "from sklearn.decomposition import PCA\n",
        "from sklearn.preprocessing import StandardScaler\n",
        "from sklearn.ensemble import RandomForestClassifier"
      ],
      "execution_count": 0,
      "outputs": []
    },
    {
      "cell_type": "code",
      "metadata": {
        "id": "au3KAMDt9HxB",
        "colab_type": "code",
        "colab": {}
      },
      "source": [
        "train_fea_names=pd.read_csv('train_labels.csv')\n",
        "train_vals=pd.read_csv('train_values.csv')\n",
        "test_set=pd.read_csv('test_values.csv')"
      ],
      "execution_count": 0,
      "outputs": []
    },
    {
      "cell_type": "markdown",
      "metadata": {
        "id": "qXR62rc79Qpp",
        "colab_type": "text"
      },
      "source": [
        "Standard Scaler"
      ]
    },
    {
      "cell_type": "code",
      "metadata": {
        "id": "dmOfACYf9Kmx",
        "colab_type": "code",
        "colab": {}
      },
      "source": [
        "from sklearn.preprocessing import StandardScaler\n",
        "ss=StandardScaler()"
      ],
      "execution_count": 0,
      "outputs": []
    },
    {
      "cell_type": "markdown",
      "metadata": {
        "id": "KtkUlJ0b9Z7L",
        "colab_type": "text"
      },
      "source": [
        "Training Data Cleaning"
      ]
    },
    {
      "cell_type": "code",
      "metadata": {
        "id": "kj7L6ukY9dH8",
        "colab_type": "code",
        "colab": {}
      },
      "source": [
        "cols=train_vals.iloc[:,[8,9,10,11,12,13,14,26]]\n",
        "dumdum=pd.get_dummies(cols,columns=cols.columns)\n",
        "d_cols=dumdum.iloc[:,[0,3,8,11,16,20,24,34]]\n",
        "dumdum=dumdum.drop(axis=1,columns=d_cols.columns)\n",
        "\n",
        "x=train_vals.drop(axis=1,columns=cols.columns)\n",
        "xtrain=x.join(dumdum)\n",
        "ytrain=train_fea_names.iloc[:,1]\n",
        "\n",
        "xtrain=ss.fit_transform(xtrain)"
      ],
      "execution_count": 0,
      "outputs": []
    },
    {
      "cell_type": "markdown",
      "metadata": {
        "id": "H-m9weWG9lM9",
        "colab_type": "text"
      },
      "source": [
        "Test Data Cleaning"
      ]
    },
    {
      "cell_type": "code",
      "metadata": {
        "id": "Tb9PpTEO9m1-",
        "colab_type": "code",
        "colab": {}
      },
      "source": [
        "dumdumt=pd.get_dummies(test_set.iloc[:,[8,9,10,11,12,13,14,26]],columns=cols.columns)\n",
        "dumdumt=dumdumt.drop(axis=1,columns=d_cols.columns)\n",
        "xtest=test_set.drop(axis=1,columns=cols.columns)\n",
        "xtest=xtest.join(dumdumt)\n",
        "\n",
        "xtest=ss.fit_transform(xtest)"
      ],
      "execution_count": 0,
      "outputs": []
    },
    {
      "cell_type": "markdown",
      "metadata": {
        "id": "Y8HXv-JL9vYO",
        "colab_type": "text"
      },
      "source": [
        "Using Kernel PCA to check for number of most relevent dimensions"
      ]
    },
    {
      "cell_type": "code",
      "metadata": {
        "id": "bCGemV8H9zkm",
        "colab_type": "code",
        "colab": {
          "base_uri": "https://localhost:8080/",
          "height": 311
        },
        "outputId": "54e558aa-53a8-437d-801f-8c8f38998bab"
      },
      "source": [
        "pca=PCA(n_components=None)\n",
        "dr=pca.fit(xtrain)\n",
        "ev=pca.explained_variance_ratio_\n",
        "print(ev)"
      ],
      "execution_count": 11,
      "outputs": [
        {
          "output_type": "stream",
          "text": [
            "[8.89754242e-02 4.68372175e-02 3.63870049e-02 3.19496375e-02\n",
            " 3.10529110e-02 2.79564588e-02 2.63438472e-02 2.54780518e-02\n",
            " 2.45715948e-02 2.24500183e-02 2.07856756e-02 1.85800662e-02\n",
            " 1.81663735e-02 1.74701352e-02 1.73670050e-02 1.71144374e-02\n",
            " 1.69896033e-02 1.67614700e-02 1.66187032e-02 1.65818673e-02\n",
            " 1.65003171e-02 1.64839047e-02 1.64675668e-02 1.64227394e-02\n",
            " 1.64074429e-02 1.63999626e-02 1.63646286e-02 1.63578456e-02\n",
            " 1.62945099e-02 1.62716609e-02 1.61714732e-02 1.61355682e-02\n",
            " 1.59612891e-02 1.59202555e-02 1.57659512e-02 1.56148013e-02\n",
            " 1.54013618e-02 1.50090141e-02 1.47278395e-02 1.44985301e-02\n",
            " 1.43630898e-02 1.39340417e-02 1.38280613e-02 1.25044093e-02\n",
            " 1.13323494e-02 1.08849728e-02 9.66048750e-03 9.46789808e-03\n",
            " 8.83469900e-03 6.97230073e-03 5.29689165e-03 4.80026761e-03\n",
            " 4.24414181e-03 4.16305747e-03 3.81872283e-03 3.57025136e-03\n",
            " 2.28399562e-03 1.82173050e-03 3.03065833e-04 2.02662615e-04\n",
            " 9.87376353e-05]\n"
          ],
          "name": "stdout"
        }
      ]
    },
    {
      "cell_type": "markdown",
      "metadata": {
        "id": "4_KC551H-sPE",
        "colab_type": "text"
      },
      "source": [
        "Applying KPCA"
      ]
    },
    {
      "cell_type": "code",
      "metadata": {
        "id": "VYmai4tj-uZZ",
        "colab_type": "code",
        "colab": {}
      },
      "source": [
        "pca=PCA(n_components=20)\n",
        "xtrain=pca.fit_transform(xtrain)\n",
        "xtest=pca.fit_transform(xtest)"
      ],
      "execution_count": 0,
      "outputs": []
    },
    {
      "cell_type": "markdown",
      "metadata": {
        "id": "AeJYUDdc_DlM",
        "colab_type": "text"
      },
      "source": [
        "Random Forrest Model"
      ]
    },
    {
      "cell_type": "code",
      "metadata": {
        "id": "4Fgq9_rW_Fph",
        "colab_type": "code",
        "colab": {
          "base_uri": "https://localhost:8080/",
          "height": 164
        },
        "outputId": "b044e429-ff23-462a-ad31-1a1f0ecdb4df"
      },
      "source": [
        "model=RandomForestClassifier(n_estimators=100)\n",
        "model.fit(xtrain,ytrain)"
      ],
      "execution_count": 14,
      "outputs": [
        {
          "output_type": "execute_result",
          "data": {
            "text/plain": [
              "RandomForestClassifier(bootstrap=True, ccp_alpha=0.0, class_weight=None,\n",
              "                       criterion='gini', max_depth=None, max_features='auto',\n",
              "                       max_leaf_nodes=None, max_samples=None,\n",
              "                       min_impurity_decrease=0.0, min_impurity_split=None,\n",
              "                       min_samples_leaf=1, min_samples_split=2,\n",
              "                       min_weight_fraction_leaf=0.0, n_estimators=100,\n",
              "                       n_jobs=None, oob_score=False, random_state=None,\n",
              "                       verbose=0, warm_start=False)"
            ]
          },
          "metadata": {
            "tags": []
          },
          "execution_count": 14
        }
      ]
    },
    {
      "cell_type": "markdown",
      "metadata": {
        "id": "klo37Ybg_U0G",
        "colab_type": "text"
      },
      "source": [
        "Prediction and writing to excel"
      ]
    },
    {
      "cell_type": "code",
      "metadata": {
        "id": "I_VeYzWi_at4",
        "colab_type": "code",
        "colab": {
          "base_uri": "https://localhost:8080/",
          "height": 35
        },
        "outputId": "7720ba69-5f5e-4073-8cea-2f655e58b3c4"
      },
      "source": [
        "pred=model.predict(xtest)\n",
        "\n",
        "#Submission\n",
        "#sub=pd.DataFrame(test_set.iloc[:,0])\n",
        "#sub['damage_grade']=pred\n",
        "#sub.to_csv('Submission1.csv')"
      ],
      "execution_count": 17,
      "outputs": [
        {
          "output_type": "stream",
          "text": [
            "[2 2 2 ... 2 2 2]\n"
          ],
          "name": "stdout"
        }
      ]
    }
  ]
}